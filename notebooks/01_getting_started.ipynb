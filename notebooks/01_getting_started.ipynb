{
 "cells": [
  {
   "cell_type": "markdown",
   "metadata": {},
   "source": [
    "# Getting Started with W2W\n",
    "\n",
    "This notebook provides a basic introduction to the W2W (Word to World) project.\n",
    "\n",
    "## Overview\n",
    "\n",
    "W2W aims to create world models from natural language descriptions and run predictive simulations using these models."
   ]
  },
  {
   "cell_type": "code",
   "execution_count": null,
   "metadata": {},
   "outputs": [],
   "source": [
    "# Import required libraries\n",
    "import torch\n",
    "import pyro\n",
    "from transformers import AutoTokenizer, AutoModel\n",
    "\n",
    "print(f\"PyTorch version: {torch.__version__}\")\n",
    "print(f\"Pyro version: {pyro.__version__}\")\n",
    "print(\"Environment setup successful!\")"
   ]
  },
  {
   "cell_type": "markdown",
   "metadata": {},
   "source": [
    "## Next Steps\n",
    "\n",
    "- Explore probabilistic programming with Pyro\n",
    "- Experiment with language models from HuggingFace\n",
    "- Build world models from text descriptions"
   ]
  }
 ],
 "metadata": {
  "kernelspec": {
   "display_name": "Python 3",
   "language": "python",
   "name": "python3"
  },
  "language_info": {
   "name": "python",
   "version": "3.12.0"
  }
 },
 "nbformat": 4,
 "nbformat_minor": 4
}
